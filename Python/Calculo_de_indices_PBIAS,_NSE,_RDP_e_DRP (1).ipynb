{
  "nbformat": 4,
  "nbformat_minor": 0,
  "metadata": {
    "colab": {
      "provenance": []
    },
    "kernelspec": {
      "name": "python3",
      "display_name": "Python 3"
    },
    "language_info": {
      "name": "python"
    }
  },
  "cells": [
    {
      "cell_type": "code",
      "source": [
        "import pandas as pd\n",
        "import numpy as np"
      ],
      "metadata": {
        "id": "YxGTLxlLRmTJ"
      },
      "execution_count": null,
      "outputs": []
    },
    {
      "cell_type": "code",
      "source": [
        "# Caminho do arquivo CSV (substitua pelo caminho correto do seu arquivo)\n",
        "PastaDrive = \"/content/drive/MyDrive/Unicamp/Doutorado/TeseFinal_Dados/\"\n",
        "Usina = \"Fazenda Sao Benedito/\"\n",
        "Pasta_Rede = \"ANN/\"\n",
        "PlanilhaCSV = \"ResultadosFazendaSaoBenedito_ANN_Apenas_16_01_2025.csv\"\n",
        "csv_path = PastaDrive + Usina + Pasta_Rede + PlanilhaCSV"
      ],
      "metadata": {
        "id": "SHgiLq5wRo11"
      },
      "execution_count": 76,
      "outputs": []
    },
    {
      "cell_type": "code",
      "source": [
        "from google.colab import drive\n",
        "drive.mount('/content/drive')"
      ],
      "metadata": {
        "colab": {
          "base_uri": "https://localhost:8080/"
        },
        "id": "RinxngigE-c_",
        "outputId": "569930b2-2e83-4d82-a5d3-f42c46537f48"
      },
      "execution_count": 52,
      "outputs": [
        {
          "output_type": "stream",
          "name": "stdout",
          "text": [
            "Drive already mounted at /content/drive; to attempt to forcibly remount, call drive.mount(\"/content/drive\", force_remount=True).\n"
          ]
        }
      ]
    },
    {
      "cell_type": "code",
      "execution_count": 77,
      "metadata": {
        "id": "TeXzUDEJDe60"
      },
      "outputs": [],
      "source": [
        "# Função para calcular o NSE\n",
        "def calcular_nse(observados, previstos):\n",
        "    media_observados = np.mean(observados)\n",
        "    numerador = np.sum((observados - previstos) ** 2)\n",
        "    denominador = np.sum((observados - media_observados) ** 2)\n",
        "    return 1 - (numerador / denominador)\n",
        "\n",
        "# Função para calcular o PBIAS\n",
        "def calcular_pbias(observados, previstos):\n",
        "    return 100 * np.sum(observados - previstos) / np.sum(observados)\n",
        "\n",
        "# Função para calcular o RDP (Root Difference Percentage)\n",
        "def calcular_rdp(observados, previstos):\n",
        "    return 100 * np.sqrt(np.mean((observados - previstos) ** 2)) / np.mean(observados)\n",
        "\n",
        "# Função para calcular o DRP (Difference Ratio Percentage)\n",
        "def calcular_drp(observados, previstos):\n",
        "    return 100 * np.mean(np.abs((observados - previstos) / observados))\n"
      ]
    },
    {
      "cell_type": "code",
      "source": [
        "# Ler o arquivo CSV\n",
        "data = pd.read_csv(csv_path,delimiter=\";\",encoding='utf-8')\n",
        "data.columns = data.columns.str.strip() # Remove espaços no início e no fim"
      ],
      "metadata": {
        "id": "78wcQQ6RRWIS"
      },
      "execution_count": 78,
      "outputs": []
    },
    {
      "cell_type": "code",
      "source": [
        "data['Valor_Calculado'] = data['Valor_Calculado'].str.replace(',', '.').astype(float)\n",
        "data['Valor_Observado'] = data['Valor_Observado'].str.replace(',', '.').astype(float)"
      ],
      "metadata": {
        "id": "whB4ds_xE8Vj"
      },
      "execution_count": 79,
      "outputs": []
    },
    {
      "cell_type": "code",
      "source": [
        "# Garantir que os valores são numéricos\n",
        "data['Valor_Observado'] = pd.to_numeric(data['Valor_Observado'], errors='coerce')\n",
        "data['Valor_Calculado'] = pd.to_numeric(data['Valor_Calculado'], errors='coerce')\n",
        "\n",
        "# Remover linhas com valores nulos\n",
        "data = data.dropna(subset=['Valor_Observado', 'Valor_Calculado'])\n",
        "\n",
        "# Obter os valores observados e previstos\n",
        "observados = data['Valor_Observado'].values\n",
        "previstos = data['Valor_Calculado'].values"
      ],
      "metadata": {
        "id": "XNhCZTacO3C0"
      },
      "execution_count": 80,
      "outputs": []
    },
    {
      "cell_type": "code",
      "source": [
        "# Calcular os índices\n",
        "mae = np.mean(np.abs(observados - previstos))  # Erro Médio Absoluto\n",
        "mse = np.mean((observados - previstos) ** 2)  # Erro Médio Quadrático\n",
        "rmse = np.sqrt(mse)  # Raiz do Erro Quadrático Médio"
      ],
      "metadata": {
        "id": "oSUoez9EO8jK"
      },
      "execution_count": 81,
      "outputs": []
    },
    {
      "cell_type": "code",
      "source": [
        "# Calcular os índices de desempenho\n",
        "nse = calcular_nse(observados, previstos)\n",
        "pbias = calcular_pbias(observados, previstos)\n",
        "rdp = calcular_rdp(observados, previstos)\n",
        "drp = calcular_drp(observados, previstos)\n",
        "\n",
        "print(f\"Coeficiente de Eficiência de Nash-Sutcliffe (NSE): {nse:.4f}\")\n",
        "print(f\"Percentual de Balanço de Erros (PBIAS): {pbias:.2f}%\")\n",
        "print(f\"Raiz do Percentual de Diferença (RDP): {rdp:.2f}%\")\n",
        "print(f\"Percentual de Razão de Diferença (DRP): {drp:.2f}%\")\n",
        "# Exibir os resultados\n",
        "print(f\"Erro Médio Absoluto (MAE): {mae:.4f}\")\n",
        "print(f\"Erro Médio Quadrático (MSE): {mse:.4f}\")\n",
        "print(f\"Raiz do Erro Quadrático Médio (RMSE): {rmse:.4f}\")\n"
      ],
      "metadata": {
        "colab": {
          "base_uri": "https://localhost:8080/"
        },
        "id": "BUXgeL0kEoRR",
        "outputId": "31d54edd-8ee7-426d-e23d-78816555225a"
      },
      "execution_count": 82,
      "outputs": [
        {
          "output_type": "stream",
          "name": "stdout",
          "text": [
            "Coeficiente de Eficiência de Nash-Sutcliffe (NSE): 0.4918\n",
            "Percentual de Balanço de Erros (PBIAS): 1.22%\n",
            "Raiz do Percentual de Diferença (RDP): 15.09%\n",
            "Percentual de Razão de Diferença (DRP): 10.17%\n",
            "Erro Médio Absoluto (MAE): 13.1219\n",
            "Erro Médio Quadrático (MSE): 334.6290\n",
            "Raiz do Erro Quadrático Médio (RMSE): 18.2929\n"
          ]
        }
      ]
    },
    {
      "cell_type": "code",
      "source": [],
      "metadata": {
        "id": "r0ulaVThJIwL"
      },
      "execution_count": null,
      "outputs": []
    }
  ]
}